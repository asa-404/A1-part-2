{
 "cells": [
  {
   "cell_type": "markdown",
   "metadata": {},
   "source": [
    "# Assignment 1-2: Data Collection Using Web APIs"
   ]
  },
  {
   "cell_type": "markdown",
   "metadata": {},
   "source": [
    "## Objective"
   ]
  },
  {
   "cell_type": "markdown",
   "metadata": {},
   "source": [
    "Many Websites (such as Twitter, Yelp, Spotify) provide free APIs to allow users to access their data. *API wrappers* simplify the use of these APIs by wrapping API calls into easy-to-use Python functions. At SFU, we are developing a unified API wrapper, called [DataPrep.Connector](https://docs.dataprep.ai/user_guide/connector/introduction.html#userguide-connector), which offers a unified programming interface to collect data from a variety of Web APIs.\n",
    "\n",
    "In this assignment, you will learn the following:\n",
    "\n",
    "* How to ask insightful questions about data\n",
    "* How to collect data from Web APIs using DataPrep.Connector\n",
    "\n",
    "**Requirements:**\n",
    "\n",
    "1. Please use [pandas.DataFrame](http://pandas.pydata.org/pandas-docs/stable/generated/pandas.DataFrame.html) rather than spark.DataFrame to manipulate data.\n",
    "\n",
    "2. Please follow the python code style (https://www.python.org/dev/peps/pep-0008/). If TA finds your code hard to read, you will lose points. This requirement will stay for the whole semester."
   ]
  },
  {
   "cell_type": "markdown",
   "metadata": {},
   "source": [
    "## Preliminary"
   ]
  },
  {
   "cell_type": "markdown",
   "metadata": {},
   "source": [
    "DataPrep.Connector is very easy to learn. By watching this 10-min [PyData Global 2020 talk](https://www.youtube.com/watch?v=56qu-0Ka-dA), you should be able to know how to use it. \n",
    "\n",
    "If you want to know more, below are some other useful resources.\n",
    "\n",
    "* [Quick Introduction](https://github.com/sfu-db/dataprep#connector)\n",
    "* [User Guide](https://sfu-db.github.io/dataprep/user_guide/connector/connector.html) \n",
    "* [Examples](https://github.com/sfu-db/dataprep/tree/develop/examples)\n",
    "* [Fetch and analyze COVID-19 tweets using DataPrep](https://www.youtube.com/watch?v=vvypQB3Vp1o)"
   ]
  },
  {
   "cell_type": "markdown",
   "metadata": {},
   "source": [
    "## Overview"
   ]
  },
  {
   "cell_type": "markdown",
   "metadata": {},
   "source": [
    "This is a **group** assignment. Please check your group in this [PDF file](https://coursys.sfu.ca/2022sp-cmpt-733-g1/pages/Web-API-Assignment/view).\n",
    "\n",
    "To do this assignment, your group needs to go through four steps:\n",
    "\n",
    "1. Select a new Web API that is not listed on https://github.com/sfu-db/APIConnectors. \n",
    "2. Create a configuration file for the API (see tutorials at [link1](https://github.com/sfu-db/APIConnectors/blob/develop/CONTRIBUTING.md#add-configuration-files) and [link2](https://github.com/sfu-db/EZHacks-tutorial/blob/master/2.%20Tutorial.ipynb)). \n",
    "3. Come up with four questions about the API. \n",
    "4. Write code to answer these questions one by one.\n",
    "\n",
    "For Step 3, please make sure your questions are **good**."
   ]
  },
  {
   "cell_type": "markdown",
   "metadata": {},
   "source": [
    "## What are \"good questions\"?"
   ]
  },
  {
   "cell_type": "markdown",
   "metadata": {},
   "source": [
    "Please use the following to judge whether your questions are good or not.\n",
    "\n",
    "1. Good questions need to be useful. That is, they are common questions asked about the API.\n",
    "2. Good questions need to be diverse. That is, they cover different aspects of the API. \n",
    "3. Good questions have to cover different difficulty levels. That is, it consists of both easy and difficult questions,  where the difficulty can be measured by the number of lines of code or the number of input parameters.\n",
    "\n",
    "The following shows four good questions about the Yelp API. The corresponding code can be found at this [link](https://github.com/sfu-db/DataConnectorConfigs#yelp----collect-local-business-data)."
   ]
  },
  {
   "cell_type": "markdown",
   "metadata": {},
   "source": [
    "* Q1. What's the phone number of Capilano Suspension Bridge Park?\n",
    "* Q2. Which yoga store has the highest review count in Vancouver?\n",
    "* Q3. How many Starbucks stores are in Seattle and where are they?\n",
    "* Q4. What are the ratings for a list of restaurants?"
   ]
  },
  {
   "cell_type": "markdown",
   "metadata": {},
   "source": [
    "**Why are they useful?**\n",
    "* Q1 is useful because \"Capilano Suspension Bridge Park\" is one of the most popular tourist attractions in Vancouver.\n",
    "* Q2 is useful because a yoga fan wants to find out the most popular yoga store in Vancouver. \n",
    "* Q3 is useful because Starbucks was founded in Seattle.\n",
    "* Q4 is useful because people often rely on yelp ratings to decide which restaurant to go to."
   ]
  },
  {
   "cell_type": "markdown",
   "metadata": {},
   "source": [
    "**Why are they diverse?**\n",
    "\n",
    "This is because the [code](yelp-code.png) written to answer them has different inputs or outputs.\n",
    "* Q1 takes `term` and `location` as input and returns 1 record with attributes `name` and `phone` \n",
    "* Q2 takes `categories`, `location`, and `sort_by` as input and returns 1 record with attributes `name` and `review_count`\n",
    "* Q3 takes `term` and `location` as input and returns n records with attributes `name`, `address`, `city`, `state`, `country`, `zipcode`\n",
    "* Q4 takes a list of retarurant `names` as input and return n records with attributes `name`, `rating`, `city`"
   ]
  },
  {
   "cell_type": "markdown",
   "metadata": {},
   "source": [
    "**Why are they more and more difficult?**\n",
    "* Q1 (4 lines of code, 2 query parameters)\n",
    "* Q2 (4 lines of code, 3 query parameters)\n",
    "* Q3 (5 lines of code, 2 query parameters)\n",
    "* Q4 (11 lines of code, 2 query parameters)"
   ]
  },
  {
   "cell_type": "markdown",
   "metadata": {},
   "source": [
    "Please note that you have to use DataPrep.Connector to get data from the Web API. If DataPrep.Connector cannot meet your needs, please post your questions on Slack (Channel: Assignment 1). We will help you. "
   ]
  },
  {
   "cell_type": "markdown",
   "metadata": {},
   "source": [
    "## Now, it's your turn. :) "
   ]
  },
  {
   "cell_type": "markdown",
   "metadata": {},
   "source": [
    "Please write down your questions and the corresponding code for your assigned API. "
   ]
  },
  {
   "cell_type": "code",
   "execution_count": 2,
   "metadata": {
    "pycharm": {
     "is_executing": true
    }
   },
   "outputs": [
    {
     "name": "stderr",
     "output_type": "stream",
     "text": [
      "NumExpr defaulting to 8 threads.\n"
     ]
    }
   ],
   "source": [
    "## Provide your API key here for TAs to reproduce your results\n",
    "from dataprep.connector import Connector\n",
    "import warnings\n",
    "warnings.filterwarnings('ignore')\n",
    "dc = Connector('./tmdb')\n",
    "apikey = '578152be1392218f6d775ceb67b4e4f6'"
   ]
  },
  {
   "cell_type": "markdown",
   "metadata": {},
   "source": [
    "### Q1\n",
    "\n",
    "Who is the most popular spiderman?\n",
    "\n",
    "We can see that currently the most popular spiderman is Tom Holland by a very wide margin.  This is likely due to two parts, the first being that the current spiderman movies are exceedly popular and because Tom Holland is the current spiderman leading to a greater popularity at this point in time."
   ]
  },
  {
   "cell_type": "code",
   "execution_count": 3,
   "metadata": {},
   "outputs": [
    {
     "data": {
      "text/html": [
       "<div>\n",
       "<style scoped>\n",
       "    .dataframe tbody tr th:only-of-type {\n",
       "        vertical-align: middle;\n",
       "    }\n",
       "\n",
       "    .dataframe tbody tr th {\n",
       "        vertical-align: top;\n",
       "    }\n",
       "\n",
       "    .dataframe thead th {\n",
       "        text-align: right;\n",
       "    }\n",
       "</style>\n",
       "<table border=\"1\" class=\"dataframe\">\n",
       "  <thead>\n",
       "    <tr style=\"text-align: right;\">\n",
       "      <th></th>\n",
       "      <th>id</th>\n",
       "      <th>name</th>\n",
       "      <th>popularity</th>\n",
       "    </tr>\n",
       "  </thead>\n",
       "  <tbody>\n",
       "    <tr>\n",
       "      <th>0</th>\n",
       "      <td>1136406</td>\n",
       "      <td>Tom Holland</td>\n",
       "      <td>155.501</td>\n",
       "    </tr>\n",
       "    <tr>\n",
       "      <th>0</th>\n",
       "      <td>37625</td>\n",
       "      <td>Andrew Garfield</td>\n",
       "      <td>83.872</td>\n",
       "    </tr>\n",
       "    <tr>\n",
       "      <th>0</th>\n",
       "      <td>2219</td>\n",
       "      <td>Tobey Maguire</td>\n",
       "      <td>38.746</td>\n",
       "    </tr>\n",
       "  </tbody>\n",
       "</table>\n",
       "</div>"
      ],
      "text/plain": [
       "        id             name  popularity\n",
       "0  1136406      Tom Holland     155.501\n",
       "0    37625  Andrew Garfield      83.872\n",
       "0     2219    Tobey Maguire      38.746"
      ]
     },
     "execution_count": 3,
     "metadata": {},
     "output_type": "execute_result"
    }
   ],
   "source": [
    "import pandas as pd\n",
    "\n",
    "# Searching on each spiderman to get their id number\n",
    "tom_holland = await dc.query('person', api_key=apikey, query='tom holland')\n",
    "andrew_garfield = await dc.query('person', api_key=apikey, query='andrew garfield')\n",
    "tobey_maguire = await dc.query('person', api_key=apikey, query='tobey maguire')\n",
    "\n",
    "# Filtering to the most popular person, as their are multiple people named tom holland for instance\n",
    "tom_holland = tom_holland[tom_holland['popularity'] == max(tom_holland['popularity'])]\n",
    "andrew_garfield = andrew_garfield[andrew_garfield['popularity'] == max(andrew_garfield['popularity'])]\n",
    "tobey_maguire = tobey_maguire[tobey_maguire['popularity'] == max(tobey_maguire['popularity'])]\n",
    "\n",
    "# Concatinating the actors into a single dataframe\n",
    "spiderman_actors = pd.concat([tom_holland, andrew_garfield, tobey_maguire])\n",
    "spiderman_actors"
   ]
  },
  {
   "cell_type": "markdown",
   "metadata": {},
   "source": [
    "**Q2**\n",
    "\n",
    "Which Canadian TV genre is most popular?\n",
    "\n",
    "Canadian TV shows of the Family genre are most popular compared to all others. From the insight obtained, the probability of releasing new TV shows of the family genre getting popular is high. The understanding is obtained by adding the popularity of a particular genre id and merging tv table with the genre table to fetch the genre name."
   ]
  },
  {
   "cell_type": "code",
   "execution_count": 4,
   "metadata": {
    "scrolled": true
   },
   "outputs": [
    {
     "data": {
      "image/png": "[encoded data removed]",
      "text/plain": [
       "<Figure size 432x288 with 1 Axes>"
      ]
     },
     "metadata": {
      "needs_background": "light"
     },
     "output_type": "display_data"
    }
   ],
   "source": [
    "import pandas as pd\n",
    "import matplotlib.pyplot as plt\n",
    "\n",
    "#Searching Canadian TV shows and respective genre id\n",
    "df_tv = await dc.query('tv', api_key=apikey, query='Canada')\n",
    "col = [df_tv.genre_ids[i].pop() if len(df_tv.genre_ids[i])>0  else None for i in range (df_tv.shape[0])] \n",
    "n = df_tv.columns[-1]\n",
    "df_tv.drop(n, axis = 1, inplace = True)\n",
    "df_tv[n] = col\n",
    "df_tv = df_tv.groupby(['genre_ids']).popularity.sum().reset_index()\n",
    "df_tv = df_tv.rename(columns={'genre_ids': 'id'})\n",
    "df_genres = await dc.query('genres', api_key=apikey)\n",
    "\n",
    "#Fetching genre name\n",
    "df = pd.merge(df_tv, df_genres, how=\"left\", on='id')\n",
    "df = df.dropna(subset=['name'])\n",
    "\n",
    "#Visualizing the result\n",
    "df.plot(x='name', y='popularity', kind='bar') \n",
    "plt.show()"
   ]
  },
  {
   "cell_type": "markdown",
   "metadata": {},
   "source": [
    "**Q3**\n",
    "\n",
    "Is there a relationship between the day of release of the movie to its popularity?\n",
    "\n",
    "Here we try to figure out whether there is a relationship between the popularity of a movie to its release date. The more popular the movie is more will be its profitability.\n",
    "\n",
    "Here we see that movies that tend to release during the weekend or near the weekend(Thursday and Friday) have higher chances to become more popular among the audience.\n",
    "\n",
    "This data can help the production staff and marketing team to figure out the release day of the movie to target a larger audience and increase the chances of a movie becoming more popular."
   ]
  },
  {
   "cell_type": "code",
   "execution_count": 5,
   "metadata": {},
   "outputs": [
    {
     "data": {
      "text/plain": [
       "<AxesSubplot:xlabel='day_of_week'>"
      ]
     },
     "execution_count": 5,
     "metadata": {},
     "output_type": "execute_result"
    },
    {
     "data": {
      "image/png": "[encoded data removed]",
      "text/plain": [
       "<Figure size 432x288 with 1 Axes>"
      ]
     },
     "metadata": {
      "needs_background": "light"
     },
     "output_type": "display_data"
    }
   ],
   "source": [
    "from dataprep.connector import Connector\n",
    "import pandas as pd\n",
    "\n",
    "dc = Connector('./tmdb')\n",
    "\n",
    "# Fetch all the movies which are currently been played in the theatre. We have not used past data as the trend will be different during the covid phase.\n",
    "current_movies = await dc.query('movies', api_key=apikey,query=100)\n",
    "current_movies['release_date']=pd.to_datetime(current_movies['release_date'])\n",
    "\n",
    "#Figure out the day of release from the release date\n",
    "current_movies['day_of_week']=current_movies['release_date'].map(lambda x: x.day_name())\n",
    "\n",
    "# Group movies by day of week\n",
    "movies_group_by_day=current_movies.groupby('day_of_week',as_index=False).mean('popularity')\n",
    "movies_group_by_day.plot.bar(x='day_of_week',y='popularity')\n"
   ]
  },
  {
   "cell_type": "markdown",
   "metadata": {},
   "source": [
    "### Q4 ...\n",
    "\n",
    "Which genre is most popular in top rated movie and top rated tv shows and what is the trend of genre being most common over the years for both movies and tv shows?\n",
    "\n",
    "The most common genre in top rated movies is \"DRAMA\" and in top rated tv shows is \"ANIMATION\".\n",
    "As seen in the table for the top rated movies:\n",
    "    1. Before 2000 the DRAMA genre was the most common\n",
    "    2. But after 2020 the ROMANCE genre became one of the most common genre.\n",
    "As seen in the table for the top rated tv shows:\n",
    "    1. The genre ANIMATION remain the most common.\n",
    "\n",
    "The understanding is obtained by getting the genres of top rated movies and tv shows and then finding the occurances of genre and then getting the maximum occurred genre and sorting the table by the year to see the trend over the years for top rated movies and trends."
   ]
  },
  {
   "cell_type": "code",
   "execution_count": 8,
   "metadata": {},
   "outputs": [
    {
     "name": "stdout",
     "output_type": "stream",
     "text": [
      "most common genre of top rated movie: Drama\n",
      "most common genre of top rated tv :Animation\n",
      "                                   original_title  release_date      genre\n",
      "14                                   12 Angry Men          1957      Drama\n",
      "2                                   The Godfather          1972      Drama\n",
      "6                          The Godfather: Part II          1974      Drama\n",
      "4                                Schindler's List          1993      Drama\n",
      "1                        The Shawshank Redemption          1994      Drama\n",
      "17                                   Pulp Fiction          1994   Thriller\n",
      "0                    दिलवाले दुल्हनिया ले जायेंगे          1995     Comedy\n",
      "15                                 The Green Mile          1999    Fantasy\n",
      "19                          O Auto da Compadecida          2000  Adventure\n",
      "10                                       千と千尋の神隠し          2001  Animation\n",
      "18  The Lord of the Rings: The Return of the King          2003  Adventure\n",
      "16                                The Dark Knight          2008      Drama\n",
      "7                                              소원          2013      Drama\n",
      "9                                           君の名は。          2016    Romance\n",
      "12                                            기생충          2019     Comedy\n",
      "13                                         映画 ギヴン          2020  Animation\n",
      "5                               Gabriel's Inferno          2020    Romance\n",
      "3                       Gabriel's Inferno Part II          2020    Romance\n",
      "8                      Gabriel's Inferno Part III          2020    Romance\n",
      "11                              シン・エヴァンゲリオン劇場版:||          2021  Animation\n"
     ]
    },
    {
     "data": {
      "text/html": [
       "<div>\n",
       "<style scoped>\n",
       "    .dataframe tbody tr th:only-of-type {\n",
       "        vertical-align: middle;\n",
       "    }\n",
       "\n",
       "    .dataframe tbody tr th {\n",
       "        vertical-align: top;\n",
       "    }\n",
       "\n",
       "    .dataframe thead th {\n",
       "        text-align: right;\n",
       "    }\n",
       "</style>\n",
       "<table border=\"1\" class=\"dataframe\">\n",
       "  <thead>\n",
       "    <tr style=\"text-align: right;\">\n",
       "      <th></th>\n",
       "      <th>name</th>\n",
       "      <th>first_air_date</th>\n",
       "      <th>genre</th>\n",
       "    </tr>\n",
       "  </thead>\n",
       "  <tbody>\n",
       "    <tr>\n",
       "      <th>1</th>\n",
       "      <td>I Am Not an Animal</td>\n",
       "      <td>2004</td>\n",
       "      <td>Animation</td>\n",
       "    </tr>\n",
       "    <tr>\n",
       "      <th>11</th>\n",
       "      <td>Maid Sama!</td>\n",
       "      <td>2010</td>\n",
       "      <td>Animation</td>\n",
       "    </tr>\n",
       "    <tr>\n",
       "      <th>17</th>\n",
       "      <td>Attack on Titan: No Regrets</td>\n",
       "      <td>2014</td>\n",
       "      <td>not given</td>\n",
       "    </tr>\n",
       "    <tr>\n",
       "      <th>15</th>\n",
       "      <td>Your Lie in April</td>\n",
       "      <td>2014</td>\n",
       "      <td>Animation</td>\n",
       "    </tr>\n",
       "    <tr>\n",
       "      <th>3</th>\n",
       "      <td>Run BTS!</td>\n",
       "      <td>2015</td>\n",
       "      <td>not given</td>\n",
       "    </tr>\n",
       "    <tr>\n",
       "      <th>16</th>\n",
       "      <td>Yuri!!! on Ice</td>\n",
       "      <td>2016</td>\n",
       "      <td>Animation</td>\n",
       "    </tr>\n",
       "    <tr>\n",
       "      <th>18</th>\n",
       "      <td>Villainous</td>\n",
       "      <td>2017</td>\n",
       "      <td>not given</td>\n",
       "    </tr>\n",
       "    <tr>\n",
       "      <th>9</th>\n",
       "      <td>Metal Family</td>\n",
       "      <td>2018</td>\n",
       "      <td>not given</td>\n",
       "    </tr>\n",
       "    <tr>\n",
       "      <th>12</th>\n",
       "      <td>Banana Fish</td>\n",
       "      <td>2018</td>\n",
       "      <td>not given</td>\n",
       "    </tr>\n",
       "    <tr>\n",
       "      <th>14</th>\n",
       "      <td>The Quintessential Quintuplets</td>\n",
       "      <td>2019</td>\n",
       "      <td>Animation</td>\n",
       "    </tr>\n",
       "    <tr>\n",
       "      <th>19</th>\n",
       "      <td>Welcome to Demon School! Iruma-kun</td>\n",
       "      <td>2019</td>\n",
       "      <td>Animation</td>\n",
       "    </tr>\n",
       "    <tr>\n",
       "      <th>8</th>\n",
       "      <td>The Promised Neverland</td>\n",
       "      <td>2019</td>\n",
       "      <td>Animation</td>\n",
       "    </tr>\n",
       "    <tr>\n",
       "      <th>7</th>\n",
       "      <td>The Rising of the Shield Hero</td>\n",
       "      <td>2019</td>\n",
       "      <td>Animation</td>\n",
       "    </tr>\n",
       "    <tr>\n",
       "      <th>5</th>\n",
       "      <td>Given</td>\n",
       "      <td>2019</td>\n",
       "      <td>Animation</td>\n",
       "    </tr>\n",
       "    <tr>\n",
       "      <th>4</th>\n",
       "      <td>BTS In the SOOP</td>\n",
       "      <td>2020</td>\n",
       "      <td>not given</td>\n",
       "    </tr>\n",
       "    <tr>\n",
       "      <th>13</th>\n",
       "      <td>Vincenzo</td>\n",
       "      <td>2021</td>\n",
       "      <td>not given</td>\n",
       "    </tr>\n",
       "    <tr>\n",
       "      <th>6</th>\n",
       "      <td>Young Royals</td>\n",
       "      <td>2021</td>\n",
       "      <td>Drama</td>\n",
       "    </tr>\n",
       "    <tr>\n",
       "      <th>2</th>\n",
       "      <td>Arcane</td>\n",
       "      <td>2021</td>\n",
       "      <td>Animation</td>\n",
       "    </tr>\n",
       "    <tr>\n",
       "      <th>10</th>\n",
       "      <td>SK8 the Infinity</td>\n",
       "      <td>2021</td>\n",
       "      <td>Animation</td>\n",
       "    </tr>\n",
       "    <tr>\n",
       "      <th>0</th>\n",
       "      <td>The D'Amelio Show</td>\n",
       "      <td>2021</td>\n",
       "      <td>not given</td>\n",
       "    </tr>\n",
       "  </tbody>\n",
       "</table>\n",
       "</div>"
      ],
      "text/plain": [
       "                                  name  first_air_date      genre\n",
       "1                   I Am Not an Animal            2004  Animation\n",
       "11                          Maid Sama!            2010  Animation\n",
       "17         Attack on Titan: No Regrets            2014  not given\n",
       "15                   Your Lie in April            2014  Animation\n",
       "3                             Run BTS!            2015  not given\n",
       "16                      Yuri!!! on Ice            2016  Animation\n",
       "18                          Villainous            2017  not given\n",
       "9                         Metal Family            2018  not given\n",
       "12                         Banana Fish            2018  not given\n",
       "14      The Quintessential Quintuplets            2019  Animation\n",
       "19  Welcome to Demon School! Iruma-kun            2019  Animation\n",
       "8               The Promised Neverland            2019  Animation\n",
       "7        The Rising of the Shield Hero            2019  Animation\n",
       "5                                Given            2019  Animation\n",
       "4                      BTS In the SOOP            2020  not given\n",
       "13                            Vincenzo            2021  not given\n",
       "6                         Young Royals            2021      Drama\n",
       "2                               Arcane            2021  Animation\n",
       "10                    SK8 the Infinity            2021  Animation\n",
       "0                    The D'Amelio Show            2021  not given"
      ]
     },
     "execution_count": 8,
     "metadata": {},
     "output_type": "execute_result"
    }
   ],
   "source": [
    "## Write your code\n",
    "def get_key(val,my_dict):\n",
    "    for key, value in my_dict.items():\n",
    "         if val == value:\n",
    "             return key\n",
    "\n",
    "import matplotlib.pyplot as plt\n",
    "#Fetch all the types of genres and their ids\n",
    "gen = await dc.query('genres',api_key = apikey)\n",
    "genres = dict(zip(gen.name, gen.id))\n",
    "\n",
    "#Fetch all the top rated movies \n",
    "mov = await dc.query('toprated_movie',api_key = apikey)\n",
    "genre_movie= dict(zip(mov.original_title, mov.genre_ids))\n",
    "genres_m={}\n",
    "genres_t={}\n",
    "\n",
    "#Get all the ids of genres of movies\n",
    "for key, value in genre_movie.items():\n",
    "        v= value[0]\n",
    "        genres_m[key]=v\n",
    "\n",
    "\n",
    "#Fetch all the top rated Tv shows\n",
    "tvs = await dc.query('toprated_tv',api_key = apikey)\n",
    "genre_tv= dict(zip(tvs.name, tvs.genre_ids))\n",
    "\n",
    "#Fetch all the ids of genres of tv shows\n",
    "for key, value in genre_tv.items():\n",
    "        if len(value)>=1:\n",
    "            v= value[0]\n",
    "        else:\n",
    "            v='None'\n",
    "        genres_t[key]=v\n",
    "\n",
    "genre_movie={}\n",
    "genre_tv={}\n",
    "\n",
    "#Finding the genres of movies and tv shows by matching the ids in genres\n",
    "for key, value in genres_m.items():\n",
    "    for k, v in genres.items():\n",
    "        if value == v:\n",
    "            genre_movie[key]=k\n",
    "\n",
    "for key, value in genres_t.items():\n",
    "    if list(genres.values()).__contains__(value):\n",
    "        genre_tv[key]=get_key(value,genres)\n",
    "        \n",
    "    else:\n",
    "        genre_tv[key]='not given'\n",
    "\n",
    "for key, value in genres_m.items():\n",
    "    if list(genres.values()).__contains__(value):\n",
    "        genre_movie[key]=get_key(value,genres)\n",
    "        \n",
    "    else:\n",
    "        genre_movie[key]='none'\n",
    "\n",
    "# Sorting the tv shows and movies with the release dates\n",
    "tv = tvs[['name','first_air_date']]\n",
    "vs = genre_tv.values()\n",
    "tv['genre'] = list(vs)\n",
    "tv['first_air_date']=pd.to_datetime(tv['first_air_date']).dt.year\n",
    "tv = tv.sort_values(by=['first_air_date'])\n",
    "\n",
    "\n",
    "movie = mov[['original_title','release_date']]\n",
    "ms= genre_movie.values()\n",
    "movie['genre'] = list(ms)\n",
    "movie['release_date']=pd.to_datetime(movie['release_date']).dt.year\n",
    "movie = movie.sort_values(by=['release_date'])\n",
    "\n",
    "\n",
    "#Finding the most common genre in movies and tv shows\n",
    "most_common_genre_movie= max(list(genre_movie.values()), key = list(genre_movie.values()).count)\n",
    "most_common_genre_tv = max(list(genre_tv.values()), key = list(genre_tv.values()).count)\n",
    "\n",
    "print(\"most common genre of top rated movie: \" + most_common_genre_movie)\n",
    "\n",
    "print(\"most common genre of top rated tv :\" + most_common_genre_tv)\n",
    "\n",
    "#Printing the movie genres and tv shows\n",
    "print(movie)\n",
    "tv"
   ]
  },
  {
   "cell_type": "markdown",
   "metadata": {},
   "source": [
    "## Submission"
   ]
  },
  {
   "cell_type": "markdown",
   "metadata": {},
   "source": [
    "Complete this notebook, rename it to `A1-2-[WEB API Name].ipynb`, and submit it along with your config files to the CourSys activity `Assignment 1 - Part 2`. For example, if your group works on Yelp, then **every member of your group** needs to submit the same notebook named `A1-2-Yelp.ipynb` and the config files named `config.zip`."
   ]
  }
 ],
 "metadata": {
  "interpreter": {
   "hash": "7ee4bae9037ef98b06da6d09f4a9f29ce9bc708c5406461e81abe7468fb4e9be"
  },
  "kernelspec": {
   "display_name": "Python 3 (ipykernel)",
   "language": "python",
   "name": "python3"
  },
  "language_info": {
   "codemirror_mode": {
    "name": "ipython",
    "version": 3
   },
   "file_extension": ".py",
   "mimetype": "text/x-python",
   "name": "python",
   "nbconvert_exporter": "python",
   "pygments_lexer": "ipython3",
   "version": "3.9.7"
  }
 },
 "nbformat": 4,
 "nbformat_minor": 4
}